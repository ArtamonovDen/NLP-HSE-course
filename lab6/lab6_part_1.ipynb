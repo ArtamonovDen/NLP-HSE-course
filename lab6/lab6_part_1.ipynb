{
 "cells": [
  {
   "cell_type": "markdown",
   "metadata": {},
   "source": [
    "# Лабораторная работа №6\n",
    "## Часть 1"
   ]
  },
  {
   "cell_type": "markdown",
   "metadata": {},
   "source": [
    "### Выполнили: Артамонов Д., Зарубина М., Железцова И., Контаев И. 16ПМИ"
   ]
  },
  {
   "cell_type": "code",
   "execution_count": 72,
   "metadata": {},
   "outputs": [],
   "source": [
    "import pandas as pd\n",
    "import numpy as np\n",
    "import time\n",
    "import math\n",
    "import re\n",
    "import random\n",
    "import pdb\n",
    "import matplotlib.pyplot as plt\n",
    "from sklearn.preprocessing import LabelEncoder\n",
    "\n",
    "import torch\n",
    "from torch.autograd import Variable\n",
    "import torch.nn as nn\n",
    "from torch.utils.data import Dataset, DataLoader, random_split\n",
    "%matplotlib inline"
   ]
  },
  {
   "cell_type": "code",
   "execution_count": 4,
   "metadata": {},
   "outputs": [],
   "source": [
    "arxiv_df = pd.read_csv('../arxiv.csv')\n",
    "arxiv_df = arxiv_df[['summary']]"
   ]
  },
  {
   "cell_type": "code",
   "execution_count": 5,
   "metadata": {},
   "outputs": [],
   "source": [
    "arxiv_df['summary'].replace('\\n',' ', regex=True, inplace=True)\n",
    "arxiv_df['summary'].replace('\\x7f',' ', regex=True, inplace=True)"
   ]
  },
  {
   "cell_type": "code",
   "execution_count": 6,
   "metadata": {},
   "outputs": [
    {
     "data": {
      "text/plain": [
       "\"Defect models capture faults and methods to provoke failures. To integrate such defect models into existing quality assurance processes, we developed a defect model lifecycle framework, in which the elicitation and classification of context-specific defects forms a crucial step. Although we could gather first insights from its practical application, we still have little knowledge about its benefits and limitations. We aim at qualitatively analyzing the context-specific elicitation and classification of defects to explore the suitability of our approach for practical application. We apply case study research in multiple contexts and analyze (1) what kind of defects we can elicit and the degree to which the defects matter to a context only, (2) the extent to which it leads to results useful enough for describing and operationalizing defect models, and (3) if there is a perceived additional immediate benefit from a practitioner's perspective. Our results strengthen our confidence on the suitability of our approach to elicit defects that are context-specific as well as context-independent. We conclude so far that our approach is suitable to provide a blueprint on how to elicit and classify defects for specific contexts to be used for the improvement of quality assurance techniques.\""
      ]
     },
     "execution_count": 6,
     "metadata": {},
     "output_type": "execute_result"
    }
   ],
   "source": [
    "arxiv_df['summary'][8]"
   ]
  },
  {
   "cell_type": "code",
   "execution_count": 7,
   "metadata": {},
   "outputs": [
    {
     "name": "stdout",
     "output_type": "stream",
     "text": [
      "Размер датасета: 27188\n"
     ]
    }
   ],
   "source": [
    "print(f'Размер датасета: {len(arxiv_df)}')"
   ]
  },
  {
   "cell_type": "markdown",
   "metadata": {},
   "source": [
    "Для удобства напишем класс TextDataset для сэмплинга последовательностей из текста и переода их в тензор"
   ]
  },
  {
   "cell_type": "code",
   "execution_count": 8,
   "metadata": {},
   "outputs": [],
   "source": [
    "class TextDataset(Dataset):\n",
    "    def __init__(self, text, chunk_len=64):\n",
    "        self.text = text\n",
    "        self.chunk_len = chunk_len\n",
    "        self.charset = set(text)\n",
    "        self.encoder = LabelEncoder()\n",
    "        self.encoder.fit(list(self.charset))\n",
    "\n",
    "    def __len__(self):\n",
    "        return len(self.text)//self.chunk_len\n",
    "\n",
    "    def __getitem__(self, idx):\n",
    "        chunk = self.random_chunk()\n",
    "        return self.char_tensor(chunk)\n",
    "    \n",
    "    def get_next(self):\n",
    "        return self.__getitem__(-1)\n",
    "        \n",
    "\n",
    "    def char_tensor(self,string):\n",
    "        tensor = torch.Tensor(self.encoder.transform(list(string))).long()\n",
    "        return Variable(tensor)\n",
    "    \n",
    "    def random_chunk(self):\n",
    "        start_index = random.randint(0, self.__len__() - self.chunk_len)\n",
    "        end_index = start_index + self.chunk_len + 1\n",
    "        return self.text[start_index:end_index]\n"
   ]
  },
  {
   "cell_type": "code",
   "execution_count": 10,
   "metadata": {},
   "outputs": [
    {
     "data": {
      "text/plain": [
       "array(['e', 'r', 'a', 't', 'i', 'o', 'n', '.', ' ', 'A', 's', ' ', 't',\n",
       "       'h', 'e', ' ', 'w', 'o', 'r', 'l', 'd', ' ', 'p', 'o', 'p', 'u',\n",
       "       'l', 'a', 't', 'i', 'o', 'n', ' ', 'g', 'e', 't', 's', ' ', 'o',\n",
       "       'l', 'd', 'e', 'r', ',', ' ', 't', 'h', 'e', ' ', 'h', 'e', 'a',\n",
       "       'l', 't', 'h', 'c', 'a', 'r', 'e', ' ', 's', 'y', 's', 't', 'e',\n",
       "       'm', ' ', 'm', 'u', 's', 't', ' ', 'b', 'e', ' ', 'a', 'd', 'a',\n",
       "       'p', 't', 'e', 'd', ',', ' ', 'a', 'm', 'o', 'n', 'g', ' ', 'o',\n",
       "       't', 'h', 'e', 'r', 's', ' ', 'b', 'y', ' ', 'p', 'r', 'o', 'v',\n",
       "       'i', 'd', 'i', 'n', 'g', ' ', 'c', 'o', 'n', 't', 'i', 'n', 'u',\n",
       "       'o', 'u', 's', ' ', 'h', 'e', 'a', 'l', 't', 'h', ' ', 'm', 'o',\n",
       "       'n', 'i', 't', 'o', 'r', 'i', 'n', 'g', ' ', 'a', 't', ' ', 'h',\n",
       "       'o', 'm', 'e', ' ', 'a', 'n', 'd', ' ', 'i', 'n', ' ', 't', 'h',\n",
       "       'e', ' ', 'c', 'i', 't', 'y', '.', ' ', 'T', 'h', 'e', ' ', 's',\n",
       "       'o', 'c', 'i', 'a', 'l', ' ', 'a', 'c', 't', 'i', 'v', 'i', 't',\n",
       "       'i', 'e', 's', ' ', 'h', 'a', 'v', 'e', ' ', 'a', ' ', 's', 'i',\n",
       "       'g', 'n', 'i', 'f', 'i', 'c'], dtype='<U1')"
      ]
     },
     "execution_count": 10,
     "metadata": {},
     "output_type": "execute_result"
    }
   ],
   "source": [
    "chunk_len = 200\n",
    "text = ' '.join(arxiv_df['summary'])\n",
    "dataset = TextDataset(text, chunk_len)\n",
    "dataset.encoder.inverse_transform(dataset.get_next())"
   ]
  },
  {
   "cell_type": "code",
   "execution_count": 12,
   "metadata": {},
   "outputs": [],
   "source": [
    "class RNN(nn.Module):\n",
    "    def __init__(self, dict_size, embedding_dim, output_size, biggun=nn.RNN, n_layers=1):\n",
    "        super(RNN, self).__init__()\n",
    "        self.input_size = dict_size\n",
    "        self.embedding_dim = embedding_dim\n",
    "        self.output_size = output_size\n",
    "        self.n_layers = n_layers\n",
    "        \n",
    "        self.encoder = nn.Embedding(dict_size, embedding_dim)\n",
    "        self.gun = biggun(embedding_dim, embedding_dim, n_layers)\n",
    "        self.decoder = nn.Linear(embedding_dim, output_size)\n",
    "    \n",
    "    def forward(self, inp, hidden):\n",
    "        inp = self.encoder(inp.view(1, -1))\n",
    "        output, hidden = self.gun(inp.view(1, 1, -1), hidden)\n",
    "        output = self.decoder(output.view(1, -1))\n",
    "        return output, hidden\n",
    "\n",
    "    def init_hidden(self):\n",
    "        return Variable(torch.zeros(self.n_layers, 1, self.embedding_dim))"
   ]
  },
  {
   "cell_type": "code",
   "execution_count": 54,
   "metadata": {},
   "outputs": [],
   "source": [
    "def evaluate(model, prime_str='A', predict_len=100, temperature=0.8):\n",
    "    \"\"\"Function to generate text of specified length\"\"\"\n",
    "       \n",
    "    hidden = model.init_hidden()\n",
    "    prime_input = dataset.char_tensor(prime_str)\n",
    "    predicted = prime_str\n",
    "\n",
    "    # Use priming string to \"build up\" hidden state\n",
    "    for p in range(len(prime_str) - 1):\n",
    "        _, hidden = model(prime_input[p], hidden)\n",
    "    inp = prime_input[-1]\n",
    "    \n",
    "    for p in range(predict_len):\n",
    "        output, hidden = model(inp, hidden)\n",
    "        \n",
    "        # Sample from the network as a multinomial distribution\n",
    "        output_dist = output.data.view(-1).div(temperature).exp()\n",
    "        top_i = torch.multinomial(output_dist, 1)[0]\n",
    "        \n",
    "        predicted_char = dataset.encoder.inverse_transform(np.array(top_i).reshape(1))\n",
    "        predicted += predicted_char[0]\n",
    "        inp = dataset.char_tensor(predicted_char)\n",
    "\n",
    "    return predicted"
   ]
  },
  {
   "cell_type": "code",
   "execution_count": 14,
   "metadata": {},
   "outputs": [],
   "source": [
    "def time_since(since):\n",
    "    s = time.time() - since\n",
    "    m = math.floor(s / 60)\n",
    "    s -= m * 60\n",
    "    return '%dm %ds' % (m, s)"
   ]
  },
  {
   "cell_type": "code",
   "execution_count": 88,
   "metadata": {},
   "outputs": [],
   "source": [
    "def plot_loss(losses):\n",
    "    plt.title('Loss decreasing')\n",
    "    plt.plot(losses)\n",
    "    plt.show()"
   ]
  },
  {
   "cell_type": "code",
   "execution_count": 25,
   "metadata": {},
   "outputs": [],
   "source": [
    "def train(chunk):\n",
    "    \"\"\"Function to train model on given chunk and count loss\"\"\"\n",
    "    def random_training_set(chunk):\n",
    "        inp = chunk[:-1]\n",
    "        target = chunk[1:]\n",
    "        return inp, target\n",
    "    \n",
    "    inp, target = random_training_set(chunk)\n",
    "    hidden = model.init_hidden()\n",
    "    model.zero_grad()\n",
    "    loss = 0\n",
    "\n",
    "    for c in range(chunk_len):\n",
    "        output, hidden = model(inp[c], hidden)\n",
    "        #pdb.set_trace()\n",
    "        \n",
    "        loss += criterion(output, target[c].view(1))\n",
    "\n",
    "    loss.backward()\n",
    "    optimizer.step()\n",
    "    #pdb.set_trace()\n",
    "    return loss.data.item() / chunk_len"
   ]
  },
  {
   "cell_type": "markdown",
   "metadata": {},
   "source": [
    "## Да начнётся обучение..."
   ]
  },
  {
   "cell_type": "markdown",
   "metadata": {},
   "source": [
    "Попробуем несколько моделей с разными рекурентными слоями: nn.RNN и nn.GRU с  различным числом скрытых слоёв"
   ]
  },
  {
   "cell_type": "markdown",
   "metadata": {},
   "source": [
    "### RNN"
   ]
  },
  {
   "cell_type": "markdown",
   "metadata": {},
   "source": [
    "Всего один скрытый слой:"
   ]
  },
  {
   "cell_type": "code",
   "execution_count": 63,
   "metadata": {},
   "outputs": [
    {
     "name": "stdout",
     "output_type": "stream",
     "text": [
      "[0m 0s (0 0%) 4.6040]\n",
      "Wh)7fx7jRp?*?S!&!v=YHk`!=*gi]vsWB37xngl$'OO9SU6)(N2I64$SkVNseeL|A)y>s_#Og+KoPS'oh#i%2-:_?]85(uw4fGrp5* \n",
      "\n",
      "[0m 18s (200 4%) 2.4084]\n",
      "Whe of of and sonted of ang and in and dion of anctent proce and prastres,, stucach properated thains  \n",
      "\n",
      "[0m 37s (400 8%) 1.7892]\n",
      "Wh. West. We prover bevaltrysion exply the dase grommnes the thes of scurciman a nodes propees comples \n",
      "\n",
      "[0m 54s (600 12%) 1.5121]\n",
      "Wher, fermonalimew-cInevers. The subuse. Oul arestiver constrality is the beter, erassicate the there  \n",
      "\n",
      "[1m 12s (800 16%) 1.4799]\n",
      "Whown demonstpe in cond for to eqfich disto to condulizalizations. We this infere. Ats furthffer inddr \n",
      "\n",
      "[1m 30s (1000 20%) 1.5881]\n",
      "Which nonoms, and ints. The resustent of san the proposed is our hamet complebage poser comples ovisti \n",
      "\n",
      "[1m 48s (1200 24%) 1.9222]\n",
      "Where inveral. Bialumaty a state (or-lysest in the on the on the ontertion (i) to on the gening naints \n",
      "\n",
      "[2m 6s (1400 28%) 1.9585]\n",
      "Whi-strallow fut rimentral of a grarasedioution. In eximit to gypephing relation the recomplate $oT de \n",
      "\n",
      "[2m 28s (1600 32%) 1.5729]\n",
      "Whate the manness steer distray can statientance diest been pates our mogabile poidly incorred by sign \n",
      "\n",
      "[2m 46s (1800 36%) 1.6685]\n",
      "Wher by in on syncharie dectored impherons pacal properient aor. We bechrition serverents of a both th \n",
      "\n",
      "[3m 6s (2000 40%) 1.9736]\n",
      "Whical lacal to or the link fundary socation is poters the commons and linted evers fain our a server  \n",
      "\n",
      "[3m 26s (2200 44%) 1.4583]\n",
      "Whate image signouning-rodute that is inported to setting data our maphicald based of selement scallem \n",
      "\n",
      "[3m 45s (2400 48%) 1.6039]\n",
      "Whing code assugment the centical in the matrious complitent \"crear of modies we similition of classig \n",
      "\n",
      "[4m 5s (2600 52%) 1.6584]\n",
      "When limith subilitie bolution model is the formand sues to shasurise moxical to the rith the chance v \n",
      "\n",
      "[4m 24s (2800 56%) 1.4172]\n",
      "Whance frameworks varying time posside to proposed all the constructure that Constrategrage with where \n",
      "\n",
      "[4m 42s (3000 60%) 1.7351]\n",
      "Wh that trangoriepose at simate for models the mandom been the completen state glotors ous. The have o \n",
      "\n",
      "[5m 1s (3200 64%) 1.6894]\n",
      "Whance dimerions good descrition main channots. The such to demonsing our seld develoption that constr \n",
      "\n",
      "[5m 20s (3400 68%) 1.7341]\n",
      "Whatorpes is nods, the PAG)in the vacested on in a data of the ault by discull is approy is of the met \n",
      "\n",
      "[5m 39s (3600 72%) 1.7619]\n",
      "Whathwo 1-contes in this FCCTREP, both in the entocoss to applay ettimization to the specifive and the \n",
      "\n",
      "[5m 59s (3800 76%) 1.7134]\n",
      "Whet clenes a funelents to is mults is problem. We \\ain sime shower best contrudes of edde. Wien of Ne \n",
      "\n",
      "[6m 19s (4000 80%) 1.5564]\n",
      "Whical both of a w annladom that the EPE secure resuls in lecoint and to use is such assicked to add c \n",
      "\n",
      "[6m 38s (4200 84%) 1.9485]\n",
      "What be term the coctory is constrate sools, we (CL) where new show the solds and the ensignalize an i \n",
      "\n",
      "[6m 59s (4400 88%) 1.6127]\n",
      "Whata of bith in complexity a costerines of exteris the built for cubution ad iurdally-drargation info \n",
      "\n",
      "[7m 18s (4600 92%) 1.5767]\n",
      "Whicourages with to projecture on the compared complexity a sing complement demations). It a and the c \n",
      "\n",
      "[7m 38s (4800 96%) 1.4526]\n",
      "Whate tysor secesurally on the scale-dee the wimery are provide the sentielability of the samboul prov \n",
      "\n"
     ]
    }
   ],
   "source": [
    "n_epochs = 5000\n",
    "print_every = 200\n",
    "plot_every = 10\n",
    "emb_size = 100\n",
    "n_layers = 1\n",
    "lr = 0.005\n",
    "dict_size = len(dataset.charset)\n",
    "\n",
    "model = RNN(dict_size, emb_size, dict_size, nn.RNN, n_layers)\n",
    "optimizer = torch.optim.Adam(model.parameters(), lr=lr)\n",
    "criterion = nn.CrossEntropyLoss()\n",
    "\n",
    "start = time.time()\n",
    "all_losses = []\n",
    "loss_avg = 0\n",
    "\n",
    "for epoch in range( n_epochs):\n",
    "    loss = train(dataset.get_next())     \n",
    "    \n",
    "    loss_avg += loss\n",
    "    if epoch % print_every == 0:\n",
    "        print('[%s (%d %d%%) %.4f]' % (time_since(start), epoch, epoch / n_epochs * 100, loss))\n",
    "        print(evaluate(model, 'Wh', 100), '\\n')\n",
    "\n",
    "    if epoch % plot_every == 0:\n",
    "        all_losses.append(loss_avg / plot_every)\n",
    "        loss_avg = 0"
   ]
  },
  {
   "cell_type": "code",
   "execution_count": 73,
   "metadata": {},
   "outputs": [
    {
     "data": {
      "image/png": "[encoded data removed]",
      "text/plain": [
       "<Figure size 432x288 with 1 Axes>"
      ]
     },
     "metadata": {
      "needs_background": "light"
     },
     "output_type": "display_data"
    }
   ],
   "source": [
    "plot_loss(all_losses)"
   ]
  },
  {
   "cell_type": "markdown",
   "metadata": {},
   "source": [
    "Попробуем что-нибудь сгенерировать 🤖:"
   ]
  },
  {
   "cell_type": "code",
   "execution_count": 76,
   "metadata": {},
   "outputs": [
    {
     "data": {
      "text/plain": [
       "'This is the most important paper ever, shat in the mite unonvial dethod. The process is the cap methods. The metation of the a scaly-Fality from byither (FCF) flow outputance of a code out the digen approduce the a verialing detack problem and survalogy methods and the wel nonstoriforithm the propection a quanting propertied propertiod fequence subneitation, we grouple, an existing in to efficient properning frecting multive the fevile to flexe in analysis fartics outcompact fire mosters on outputant the secural mode the present is maxige analysionality inceplicants analy, Furthown-out'"
      ]
     },
     "execution_count": 76,
     "metadata": {},
     "output_type": "execute_result"
    }
   ],
   "source": [
    "evaluate(model, prime_str='This is the most important paper ever',predict_len = 555)"
   ]
  },
  {
   "cell_type": "markdown",
   "metadata": {},
   "source": [
    "Есть даже пару понятных слов😃"
   ]
  },
  {
   "cell_type": "markdown",
   "metadata": {},
   "source": [
    "Попробуем увеличить число скрытых слоев"
   ]
  },
  {
   "cell_type": "code",
   "execution_count": 79,
   "metadata": {},
   "outputs": [
    {
     "name": "stdout",
     "output_type": "stream",
     "text": [
      "[0m 0s (0 0%) 4.5644]\n",
      "WhVb?IpiF!a\\q6 HhlX_l(YuB9tiyG1)L8`K}}_9tFRNQAd<=$bp{M|_gB:K&Z@XY_dtKN;Kk v;%)\"x`b+i%iSuYn'&L,~Bi1UYmY \n",
      "\n",
      "[0m 17s (100 2%) 2.4330]\n",
      "Whe erengrers pice coraans lengrerulertel poncors fict thritrer oririlitioucortral cerasgerp. god cont \n",
      "\n",
      "[0m 35s (200 4%) 2.1439]\n",
      "Wh-rewix cpation hedenger the recerericg Epetsex in a cuch bing a velmeanarorata meanm, bextuct deteme \n",
      "\n",
      "[0m 53s (300 6%) 2.2199]\n",
      "Whibon exnonent vanse a profese a deleice godessing thee on pralice angpententaon sestath in leing in  \n",
      "\n",
      "[1m 9s (400 8%) 1.9946]\n",
      "Whang vite the vagoln prose rile the covell prodaccing were of and prohed eleled we winct parlicior le \n",
      "\n",
      "[1m 25s (500 10%) 2.0179]\n",
      "Wha\" lespulsy of the a such in tral to of resents aldisies is to sugs and erperents an alne of of of a \n",
      "\n",
      "[1m 41s (600 12%) 1.8549]\n",
      "WhiWe catimition beetation by ompling frestsogy with an a sustisk atcuriciced tass i valection molisui \n",
      "\n",
      "[1m 58s (700 14%) 1.8400]\n",
      "Whivition a simition on comply in to consines tinal probletder the a at cenchision mangue netto eves c \n",
      "\n",
      "[2m 14s (800 16%) 2.0901]\n",
      "Whicy on connant and maslieratizated we modele manace worm and goglalition in lodels alsive and can me \n",
      "\n",
      "[2m 30s (900 18%) 2.4639]\n",
      "Whisus and estanment-pals of and distanericrount can demon forth inerave distring for and of reinal fo \n",
      "\n",
      "[2m 48s (1000 20%) 1.7765]\n",
      "Whone and infoining. Thides welata that and infermentitly wist an we crality angofen comply dentainals \n",
      "\n",
      "[3m 7s (1100 22%) 1.8663]\n",
      "Whable lethods the stant lapongerent comprol simulms and and complep based is as scessive commots a se \n",
      "\n",
      "[3m 23s (1200 24%) 1.7994]\n",
      "Whus sensed are probact a consper compresent for progral compendectations tame to to bouctirated the c \n",
      "\n",
      "[3m 40s (1300 26%) 1.7753]\n",
      "Whed out of being be conrevian in non-thee signar be to sharven of examear tracion, of buted (RMNUs bo \n",
      "\n",
      "[3m 56s (1400 28%) 1.5682]\n",
      "Whk, which compose intenction of as in to mations alaction be conaly and allomes omplicaler the experf \n",
      "\n",
      "[4m 13s (1500 30%) 1.7321]\n",
      "Why appart dever teart of perment multive scalacisary silmulates to used metermine in a sed and the a  \n",
      "\n",
      "[4m 30s (1600 32%) 1.8341]\n",
      "Wh$ the fact epply a project to implofit convexific code. A trit mave from realation is and approach b \n",
      "\n",
      "[4m 46s (1700 34%) 1.5556]\n",
      "Wh\\d} results. This parally a fastial probition of arts siaghant other for the addromitiel the coknali \n",
      "\n",
      "[5m 2s (1800 36%) 1.8192]\n",
      "Why that the nodel or a seallher on a ginceps. The and betwerently inding based lewed grouss, we of a  \n",
      "\n",
      "[5m 18s (1900 38%) 1.9704]\n",
      "Why on network show that construct distrabel in the used to ompeecy predent is unded mank-autem requit \n",
      "\n",
      "[5m 35s (2000 40%) 1.5316]\n",
      "Whm work of surtivity the compose drour studn a courners from applion. The conpured berous applion-by  \n",
      "\n",
      "[5m 51s (2100 42%) 2.1289]\n",
      "Wh subusticles as multicious of a demonstrianterming Cor-conrateration the couper in this grreretriage \n",
      "\n",
      "[6m 7s (2200 44%) 1.7364]\n",
      "Wh{$. We carged of a gistence with the and a yigned ataset conceptwer and atter reater on develective  \n",
      "\n",
      "[6m 23s (2300 46%) 1.6389]\n",
      "When of the informance model stations time eftere of interple distription. Deetral constrese the secin \n",
      "\n",
      "[6m 40s (2400 48%) 1.9399]\n",
      "Whed the results: addations. The stare a the preers. The defstations yapusions with conjoupty any prat \n",
      "\n",
      "[6m 56s (2500 50%) 1.6372]\n",
      "Wh9, the stras the varation and weled consissess sameap this serfors. Retugity the refit constrons the \n",
      "\n",
      "[7m 12s (2600 52%) 1.6502]\n",
      "Wh viament of sonds for encorms of the opts for the stent for the promerark of contend to the potity i \n",
      "\n",
      "[7m 29s (2700 54%) 1.7125]\n",
      "Wh$ sensuidies. In equide is artimize making maze is in $2$ souf or and cable Oresting a desasts auned \n",
      "\n",
      "[7m 48s (2800 56%) 1.7971]\n",
      "Wh tirional of this to a grodecoperations addring ropersent and can arameterning lange we decralate co \n",
      "\n",
      "[8m 4s (2900 57%) 1.6324]\n",
      "Wh our doocrition by projects of The proposed in the poarnal distors the propown the the stapt deading \n",
      "\n",
      "[8m 21s (3000 60%) 1.7473]\n",
      "Who% data. We applical are state hiow the realizization for whed word the queties when the solarltqied \n",
      "\n",
      "[8m 37s (3100 62%) 2.0761]\n",
      "Wh are compriteg  may capies we challens is the may highe resorixem, we presticles, we the lank. The s \n",
      "\n",
      "[8m 53s (3200 64%) 1.7400]\n",
      "Wh attation all wor to the masised in in the using emapuaneration a mare a significall and from propos \n",
      "\n",
      "[9m 10s (3300 66%) 1.4847]\n",
      "Why, such onlively ISP $I% proclerative fiption of the can to a set code, pariment the code thas conce \n",
      "\n",
      "[9m 27s (3400 68%) 1.5239]\n",
      "Whiqtication in compare and is to handenged that tre)en Gayese commulhent weiven general it a mecence  \n",
      "\n",
      "[9m 43s (3500 70%) 1.7631]\n",
      "Wh (y) adver node and applomate) there a vential paramention to the considerd and and for the proposed \n",
      "\n",
      "[9m 59s (3600 72%) 1.6778]\n",
      "Wht-lidearly, in for stusion and show the parameteroding descatives of sonfially of that blically ofra \n",
      "\n",
      "[10m 16s (3700 74%) 1.7347]\n",
      "Wh+$-last featly is strates simel framewor algorithm explased computaticge model mating makrong (kLSA  \n",
      "\n",
      "[10m 32s (3800 76%) 1.6154]\n",
      "Whh{qual an step exime framed in suiLable feations. Relivity suings partion of injections from an expe \n",
      "\n",
      "[10m 48s (3900 78%) 1.6584]\n",
      "Wh a step prible advartait of autom deserphice the sacling to performan a sungs assume system for harg \n",
      "\n",
      "[11m 5s (4000 80%) 1.6271]\n",
      "Wh+ $2=2)$. For and of the bess and into effers and propertiour to models to the oning the are complec \n",
      "\n",
      "[11m 21s (4100 82%) 2.0798]\n",
      "Wh are rarlly proveanded linear spects. It scariod to band to is sessoral comploce resents sist a fram \n",
      "\n",
      "[11m 37s (4200 84%) 1.9330]\n",
      "Wh and properfording the linned which we Gaunddyt a domassem apportive priacurares to the introindipti \n",
      "\n",
      "[11m 54s (4300 86%) 1.7709]\n",
      "Wh/2\\tahe-with for power and proposed bough wheres tools probubed with the row data provertion to diel \n",
      "\n",
      "[12m 10s (4400 88%) 1.7122]\n",
      "Wh quake such reasence incompations the in quabilisticutions composamicing a pattempant a meption and  \n",
      "\n",
      "[12m 26s (4500 90%) 1.7197]\n",
      "Wh+2S use to any constructs is thely fundical automation the distribution provisper of the and of the  \n",
      "\n",
      "[12m 43s (4600 92%) 1.8554]\n",
      "Wh the in the an intoys accroventificially in proposed influe repect what provent sublating the static \n",
      "\n",
      "[13m 1s (4700 94%) 1.8118]\n",
      "Wh$ to decolting proposed foetrot variant the project data ow the distribution wurages wire contworks  \n",
      "\n",
      "[13m 18s (4800 96%) 1.7999]\n",
      "Wh signisticurar cotto methods of proces tist maper of reneit and prearent favel fafilient lind propos \n",
      "\n",
      "[13m 34s (4900 98%) 2.0863]\n",
      "Wh the to a measure complexing contain once boted companised accem comphicative of abisters show stroc \n",
      "\n"
     ]
    }
   ],
   "source": [
    "n_epochs = 5000\n",
    "print_every = 100\n",
    "plot_every = 10\n",
    "emb_size = 100\n",
    "n_layers = 3\n",
    "lr = 0.005\n",
    "dict_size = len(dataset.charset)\n",
    "\n",
    "model = RNN(dict_size, emb_size, dict_size, nn.RNN, n_layers)\n",
    "optimizer = torch.optim.Adam(model.parameters(), lr=lr)\n",
    "criterion = nn.CrossEntropyLoss()\n",
    "\n",
    "start = time.time()\n",
    "all_losses = []\n",
    "loss_avg = 0\n",
    "\n",
    "for epoch in range( n_epochs):\n",
    "    loss = train(dataset.get_next())     \n",
    "    \n",
    "    loss_avg += loss\n",
    "    if epoch % print_every == 0:\n",
    "        print('[%s (%d %d%%) %.4f]' % (time_since(start), epoch, epoch / n_epochs * 100, loss))\n",
    "        print(evaluate(model, 'Wh', 100), '\\n')\n",
    "\n",
    "    if epoch % plot_every == 0:\n",
    "        all_losses.append(loss_avg / plot_every)\n",
    "        loss_avg = 0"
   ]
  },
  {
   "cell_type": "code",
   "execution_count": 89,
   "metadata": {},
   "outputs": [
    {
     "data": {
      "image/png": "[encoded data removed]",
      "text/plain": [
       "<Figure size 432x288 with 1 Axes>"
      ]
     },
     "metadata": {
      "needs_background": "light"
     },
     "output_type": "display_data"
    }
   ],
   "source": [
    "plot_loss(all_losses)"
   ]
  },
  {
   "cell_type": "markdown",
   "metadata": {},
   "source": [
    "🤖"
   ]
  },
  {
   "cell_type": "code",
   "execution_count": 91,
   "metadata": {},
   "outputs": [
    {
     "data": {
      "text/plain": [
       "'We presenties, we reper tisess construction are partification beight on finds in to beich w algore are rewity andeg performatorizis to the provectant posalitich mears to propose for probit that of sho be power to face the proposed both their composed and ress modes systeg passuals of show compare aper stent construshes. This consign-comple a seffict improoced promold by esend. In the arthop softained and perties for problem it struct three sonjected experfape conce the thre for there is chands and measures appors corment constrocol dectinusal Corminate the fi'"
      ]
     },
     "execution_count": 91,
     "metadata": {},
     "output_type": "execute_result"
    }
   ],
   "source": [
    "evaluate(model, prime_str='We present',predict_len = 555)"
   ]
  },
  {
   "cell_type": "markdown",
   "metadata": {},
   "source": [
    "## GRU"
   ]
  },
  {
   "cell_type": "markdown",
   "metadata": {},
   "source": [
    "GRU с одним скрытым слоем"
   ]
  },
  {
   "cell_type": "code",
   "execution_count": 93,
   "metadata": {},
   "outputs": [
    {
     "name": "stdout",
     "output_type": "stream",
     "text": [
      "[0m 0s (0 0%) 4.5590]\n",
      "WhL7{:fqI:QG:m1kQmlK0LeMK?uhU-4v$MOknfGq]x_Ei+=((j$1Q(GsueJ\\jU7$KdV8_GA)F@j1r|L5JWW/~>V98sS~-/yW3@1A=( \n",
      "\n",
      "[0m 33s (200 4%) 2.1204]\n",
      "Wh. In cural an conmpopoustale and ins an probeltion contation inertion in tenetiontumes combutations  \n",
      "\n",
      "[1m 6s (400 8%) 1.7407]\n",
      "Wh the pros the tis algormayne out estial and by by an of the hample whe simizal with the lowm as soll \n",
      "\n",
      "[1m 38s (600 12%) 1.9469]\n",
      "Wher on model the known Pary ditivity problem in the of Iin obfutive in it as bots or with vause in in \n",
      "\n",
      "[2m 11s (800 16%) 1.6769]\n",
      "Whions of the method recessomed diffistormuction acclentions invessions of the condity an develents su \n",
      "\n",
      "[2m 44s (1000 20%) 1.5200]\n",
      "Wher delistribity fets the proposing are faits of when good of by colst the contractions or intannitio \n",
      "\n",
      "[3m 17s (1200 24%) 1.6570]\n",
      "Whoded machuse consilt algorithm of time convex on infecisting sequervery and a linguile empont is con \n",
      "\n",
      "[3m 49s (1400 28%) 1.9018]\n",
      "Whtegy of the sequence is formal interence to higher from the form the models are sequence to a cussie \n",
      "\n",
      "[4m 21s (1600 32%) 1.6773]\n",
      "Wher the proposed the selempt devires nitork forming (k)~T-ork. The ted problem noming in thast showde \n",
      "\n",
      "[4m 54s (1800 36%) 1.6816]\n",
      "Whent setures. Sontext-frecition otely depen mined large resovition costracty, way sears wheres, in th \n",
      "\n",
      "[5m 26s (2000 40%) 1.2665]\n",
      "Whersing real moted this parameterive a rome be the sucts analysis (or train to the context-ssmersting \n",
      "\n",
      "[5m 59s (2200 44%) 1.5958]\n",
      "Whering from saman wist personasting are codes of the populys us ariated the graph sisting towarch a p \n",
      "\n",
      "[6m 32s (2400 48%) 1.3069]\n",
      "Whorge samplonimbation the methods in stations. The for of a can provide the There which and the impro \n",
      "\n",
      "[7m 4s (2600 52%) 1.5448]\n",
      "Wher in the propose acceper reduly, we clusson beosed finth station sementisted strateg subsed ussed a \n",
      "\n",
      "[7m 36s (2800 56%) 1.6167]\n",
      "Wherov sumpars and sulto as the results the most of each is for modes. Oneless, indiviout of envistiti \n",
      "\n",
      "[8m 9s (3000 60%) 1.2980]\n",
      "Wheral network hyperative areas decring of the sed-code videlation as efficate con approaches is and a \n",
      "\n",
      "[8m 41s (3200 64%) 1.4592]\n",
      "Wher, link data, eamed recent Youning not only aday of the proposed to take presentations. In this per \n",
      "\n",
      "[9m 13s (3400 68%) 1.4323]\n",
      "Wher of a case an network, based to concrentense in their approach interes rage the demonstrate of the \n",
      "\n",
      "[9m 46s (3600 72%) 1.1545]\n",
      "Wher, tree sample for more due majrimum model the spatial securic for chion pried a samply most an of  \n",
      "\n",
      "[10m 18s (3800 76%) 1.6670]\n",
      "Wher also algorithms in by such also represent an approacch on the often que variance, proposed to the \n",
      "\n",
      "[10m 50s (4000 80%) 1.2492]\n",
      "Whit relate algorithm and partical setricure colect the high-love result graph our megice an often pro \n",
      "\n",
      "[11m 23s (4200 84%) 1.4427]\n",
      "Whey on dependents velications multiples most setsistion de the robusting method quality in the discal \n",
      "\n",
      "[11m 55s (4400 88%) 1.6284]\n",
      "Whity while to convex, the combide valued of matchs of a proposed on the consed algorithms, we are det \n",
      "\n",
      "[12m 28s (4600 92%) 1.7542]\n",
      "Wher on and the the proposed complexity inventions accompasces ypile mixed generation con-machencyicab \n",
      "\n",
      "[13m 0s (4800 96%) 1.2466]\n",
      "Whfuencies of suitification these onling are schere, with fille differ cyposed bound data. Complexity  \n",
      "\n"
     ]
    }
   ],
   "source": [
    "n_epochs = 5000\n",
    "print_every = 200\n",
    "plot_every = 10\n",
    "emb_size = 100\n",
    "n_layers = 1\n",
    "lr = 0.005\n",
    "dict_size = len(dataset.charset)\n",
    "\n",
    "model = RNN(dict_size, emb_size, dict_size, nn.GRU, n_layers)\n",
    "optimizer = torch.optim.Adam(model.parameters(), lr=lr)\n",
    "criterion = nn.CrossEntropyLoss()\n",
    "\n",
    "start = time.time()\n",
    "all_losses = []\n",
    "loss_avg = 0\n",
    "\n",
    "for epoch in range( n_epochs):\n",
    "    loss = train(dataset.get_next())     \n",
    "    \n",
    "    loss_avg += loss\n",
    "    if epoch % print_every == 0:\n",
    "        print('[%s (%d %d%%) %.4f]' % (time_since(start), epoch, epoch / n_epochs * 100, loss))\n",
    "        print(evaluate(model, 'Wh', 100), '\\n')\n",
    "\n",
    "    if epoch % plot_every == 0:\n",
    "        all_losses.append(loss_avg / plot_every)\n",
    "        loss_avg = 0"
   ]
  },
  {
   "cell_type": "code",
   "execution_count": 94,
   "metadata": {},
   "outputs": [
    {
     "data": {
      "image/png": "[encoded data removed]",
      "text/plain": [
       "<Figure size 432x288 with 1 Axes>"
      ]
     },
     "metadata": {
      "needs_background": "light"
     },
     "output_type": "display_data"
    }
   ],
   "source": [
    "plot_loss(all_losses)"
   ]
  },
  {
   "cell_type": "markdown",
   "metadata": {},
   "source": [
    "🤖"
   ]
  },
  {
   "cell_type": "code",
   "execution_count": 96,
   "metadata": {},
   "outputs": [
    {
     "data": {
      "text/plain": [
       "'Brand new the subcection, methodohods with the complexity in demonstrate approach-vales concex in the challengity. The of this paried clode-of at sets is the quile limit $lacks. For the competitidl and an allity. We the nodenessivation algorithm the literality. In this ander and non-parnence the we protactivious of exploressively indachs firs methods to compects a contife systempor step of studies. Fivention the dependent sparse information classifications models inclustangers and experesation learning we prive are computation timent show how are an improvements and analysis invertorm a newnerality, which with making a mayn-cerame-lated so (i) context$-lineled real-wix predictatividation and moted in high for the rage which terthogning main a for step interers cthomatic state-of-quelicition be effectively with languages is pottimizations the making game models. The expectively, when here wem-(SDHP similar the stack graphs, when a neomat the it streations fight licul main real-to stepsier to con'"
      ]
     },
     "execution_count": 96,
     "metadata": {},
     "output_type": "execute_result"
    }
   ],
   "source": [
    "evaluate(model, prime_str='Brand new',predict_len = 1000)"
   ]
  },
  {
   "cell_type": "markdown",
   "metadata": {},
   "source": [
    " 🤯"
   ]
  },
  {
   "cell_type": "markdown",
   "metadata": {},
   "source": [
    "GRU с одним тремя слоями"
   ]
  },
  {
   "cell_type": "code",
   "execution_count": 98,
   "metadata": {},
   "outputs": [
    {
     "name": "stdout",
     "output_type": "stream",
     "text": [
      "[0m 0s (0 0%) 4.5445]\n",
      "WhkZ7?CH+pk#Zz#)WAVt`i5T;tn3elLsyX/hLDx2W81#iwx2:I,;.Ap*eKmy:?1oBsMfu^ozT9r(RC|-yds$yfB6q}Hgd_]M70l*,_ \n",
      "\n",
      "[1m 15s (200 4%) 2.5953]\n",
      "Wh, og fwe at osu ood itercfes arirpe metond deiver pa cut-etie\\vy afve pcodetifpmsrinm zivesgg pasmSd \n",
      "\n",
      "[2m 26s (400 8%) 2.5647]\n",
      "Wh antd mestrate methat deto stys of insistieds dies bhiss leccly of pich lecepte and ochent puoter ec \n",
      "\n",
      "[3m 36s (600 12%) 1.9099]\n",
      "Whe-the enal insy allation shoating haan and the parce on the Offulalled and propings evainstrized by  \n",
      "\n",
      "[4m 47s (800 16%) 1.5994]\n",
      "Whfor mestarpomented metho that this compame-in resuutatical usess that the compuarates of a proble. T \n",
      "\n",
      "[5m 56s (1000 20%) 1.6615]\n",
      "Whl a stated dethod problems on ssecht provides. Hinight, a station the secal work and stomation of po \n",
      "\n",
      "[7m 6s (1200 24%) 1.9062]\n",
      "Whoal this of a math incorposic. We results a frament as rois (strour frament for ervent highibile, ha \n",
      "\n",
      "[8m 16s (1400 28%) 1.4464]\n",
      "Who standy for multic malivity attens Son in a nots. Deeadling a some an etently. These completh learc \n",
      "\n",
      "[9m 26s (1600 32%) 1.7271]\n",
      "When is the researching approblems. We resour of the that-to-neerally to ductions mabality of hidge (D \n",
      "\n",
      "[10m 35s (1800 36%) 1.2671]\n",
      "Whing as apformuntly and the novel for sets states for an adated of algorithms. We resetting the infer \n",
      "\n",
      "[11m 45s (2000 40%) 1.5242]\n",
      "Whighar time. In a in add searning pobilibrein solution. We selent, that datae over and secureder pred \n",
      "\n",
      "[12m 55s (2200 44%) 1.1836]\n",
      "When the technique sensigs to general maximate as yet approfid existing with structive rase we tass of \n",
      "\n",
      "[14m 5s (2400 48%) 1.5317]\n",
      "Whis proposed modeline of the proposely proposed of this paper of joind sime but constrainities. The s \n",
      "\n",
      "[15m 14s (2600 52%) 1.3360]\n",
      "Which assured sequence of and on scled approvides and lood-show new given. Wome model for secares RE ( \n",
      "\n",
      "[16m 22s (2800 56%) 1.7484]\n",
      "Whodeped on the operporage approach the good mulsions. Whe the supt of and the captures for the poster \n",
      "\n",
      "[17m 31s (3000 60%) 1.5847]\n",
      "Wh rearpos is computettication into the Das attendiog can spation to signation and networks of stacial \n",
      "\n",
      "[18m 40s (3200 64%) 1.4207]\n",
      "Wh, work. Furthermore to the solue spartion, in compared problems. Arther, work construction metroptiv \n",
      "\n",
      "[19m 49s (3400 68%) 1.6249]\n",
      "Whrom estents the consident of larges on-the are S3S (RM) we playevens to about is also fectic that th \n",
      "\n",
      "[20m 58s (3600 72%) 1.4640]\n",
      "Whe higher the noise havel a clear training what the over is also some. A the new, which the time cont \n",
      "\n",
      "[22m 7s (3800 76%) 1.2367]\n",
      "Whic an in space the classifition-evladiteratory an complexit intentified mance use and be bever evalu \n",
      "\n",
      "[23m 16s (4000 80%) 1.6242]\n",
      "Which are of and advance atforming of soudly an it compare be which of secrecorsy ofers to performe sh \n",
      "\n",
      "[24m 25s (4200 84%) 1.4201]\n",
      "Wh In state-of-C2 =om-expective sets enconstructure the prustured iterminess to synthere as method. In \n",
      "\n",
      "[25m 34s (4400 88%) 1.7770]\n",
      "Whrogation-constering the systems is a sty and especition crosily for chantant style that that in an e \n",
      "\n",
      "[26m 43s (4600 92%) 1.3555]\n",
      "Wh sensuage heaunage the performance is a giving parchalogication for stations of the grouprecidities  \n",
      "\n",
      "[27m 52s (4800 96%) 1.5610]\n",
      "Wh solution a priestant slume of a methods generations of 14 can RE dut meduce there graning by the de \n",
      "\n"
     ]
    }
   ],
   "source": [
    "n_epochs = 5000\n",
    "print_every = 200\n",
    "plot_every = 10\n",
    "emb_size = 100\n",
    "n_layers = 3\n",
    "lr = 0.005\n",
    "dict_size = len(dataset.charset)\n",
    "\n",
    "model = RNN(dict_size, emb_size, dict_size, nn.GRU, n_layers)\n",
    "optimizer = torch.optim.Adam(model.parameters(), lr=lr)\n",
    "criterion = nn.CrossEntropyLoss()\n",
    "\n",
    "start = time.time()\n",
    "all_losses = []\n",
    "loss_avg = 0\n",
    "\n",
    "for epoch in range( n_epochs):\n",
    "    loss = train(dataset.get_next())     \n",
    "    \n",
    "    loss_avg += loss\n",
    "    if epoch % print_every == 0:\n",
    "        print('[%s (%d %d%%) %.4f]' % (time_since(start), epoch, epoch / n_epochs * 100, loss))\n",
    "        print(evaluate(model, 'Wh', 100), '\\n')\n",
    "\n",
    "    if epoch % plot_every == 0:\n",
    "        all_losses.append(loss_avg / plot_every)\n",
    "        loss_avg = 0"
   ]
  },
  {
   "cell_type": "code",
   "execution_count": 99,
   "metadata": {},
   "outputs": [
    {
     "data": {
      "image/png": "[encoded data removed]",
      "text/plain": [
       "<Figure size 432x288 with 1 Axes>"
      ]
     },
     "metadata": {
      "needs_background": "light"
     },
     "output_type": "display_data"
    }
   ],
   "source": [
    "plot_loss(all_losses)"
   ]
  },
  {
   "cell_type": "markdown",
   "metadata": {},
   "source": [
    "🤖"
   ]
  },
  {
   "cell_type": "code",
   "execution_count": 106,
   "metadata": {},
   "outputs": [
    {
     "data": {
      "text/plain": [
       "'This paper treanstic distructures. In characterization in the provide staped within additrund the graphess to propose of characterizes areifiation/omition of the studily for show the proposed compared whisic sequence inse-formular Invyy-to majecture of deces, we struap show the sclem. Androwand the tree secure the progres the prove the suts in twies on the maximum and character. For certys chan expectructions: where and use to this paper resully transly of results ca grammer creasureset often of that charactersion with and regular term sequence sequences. Fferes of signally of the invepestical to where of exists regure of mease gramming sharge twociisticular with free reasing is mesuted by  present sperest the Descepence verge to prove to netwy compleation of the type propose of the cause methods objecture models. We treed the efcele require that grame while most this paper, we provides transt, a simulations Ty seted Inverlying that with the inferences of we present tracially compleme. Simes of '"
      ]
     },
     "execution_count": 106,
     "metadata": {},
     "output_type": "execute_result"
    }
   ],
   "source": [
    "evaluate(model, prime_str='This paper',predict_len = 1000)"
   ]
  },
  {
   "cell_type": "markdown",
   "metadata": {},
   "source": [
    "Ещё чуть-чуть и можно генерить project proposal🙂 "
   ]
  }
 ],
 "metadata": {
  "kernelspec": {
   "display_name": "Python 3",
   "language": "python",
   "name": "python3"
  },
  "language_info": {
   "codemirror_mode": {
    "name": "ipython",
    "version": 3
   },
   "file_extension": ".py",
   "mimetype": "text/x-python",
   "name": "python",
   "nbconvert_exporter": "python",
   "pygments_lexer": "ipython3",
   "version": "3.6.10"
  }
 },
 "nbformat": 4,
 "nbformat_minor": 4
}
