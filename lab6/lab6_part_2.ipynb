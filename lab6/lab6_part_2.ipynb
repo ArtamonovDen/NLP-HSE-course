{
 "cells": [
  {
   "cell_type": "markdown",
   "metadata": {},
   "source": [
    "# Лабораторная работа №6\n",
    "\n",
    "## Часть 2"
   ]
  },
  {
   "cell_type": "markdown",
   "metadata": {},
   "source": [
    "### Выполнили: Артамонов Д., Зарубина М., Железцова И., Контаев И. 16ПМИ"
   ]
  },
  {
   "cell_type": "code",
   "execution_count": 20,
   "metadata": {},
   "outputs": [],
   "source": [
    "import pandas as pd\n",
    "import numpy as np\n",
    "import time\n",
    "import math\n",
    "import re\n",
    "import random\n",
    "import pdb\n",
    "import json\n",
    "import matplotlib.pyplot as plt\n",
    "%matplotlib inline"
   ]
  },
  {
   "cell_type": "code",
   "execution_count": 21,
   "metadata": {},
   "outputs": [],
   "source": [
    "from sklearn.preprocessing import LabelEncoder"
   ]
  },
  {
   "cell_type": "code",
   "execution_count": 17,
   "metadata": {},
   "outputs": [],
   "source": [
    "import torch\n",
    "from torch.autograd import Variable\n",
    "import torch.nn as nn\n",
    "from torch.utils.data import Dataset, DataLoader, random_split"
   ]
  },
  {
   "cell_type": "markdown",
   "metadata": {},
   "source": [
    "Сделаем то же, что и в первой части, только для датасета новостей"
   ]
  },
  {
   "cell_type": "code",
   "execution_count": 4,
   "metadata": {},
   "outputs": [],
   "source": [
    "with open(\"../data/nplus1_news.json\") as f:\n",
    "    corpus = json.load(f)"
   ]
  },
  {
   "cell_type": "code",
   "execution_count": 66,
   "metadata": {},
   "outputs": [],
   "source": [
    "text = ' '.join(pd.DataFrame(corpus)['text'])\n",
    "text = text.replace('\\n',' ')"
   ]
  },
  {
   "cell_type": "markdown",
   "metadata": {},
   "source": [
    "Для удобства напишем класс TextDataset для сэмплинга последовательностей из текста и переода их в тензор"
   ]
  },
  {
   "cell_type": "code",
   "execution_count": 68,
   "metadata": {},
   "outputs": [],
   "source": [
    "class TextDataset(Dataset):\n",
    "    def __init__(self, text, chunk_len=64):\n",
    "        self.text = text\n",
    "        self.chunk_len = chunk_len\n",
    "        self.charset = set(text)\n",
    "        self.encoder = LabelEncoder()\n",
    "        self.encoder.fit(list(self.charset))\n",
    "\n",
    "    def __len__(self):\n",
    "        return len(self.text)//self.chunk_len\n",
    "\n",
    "    def __getitem__(self, idx):\n",
    "        chunk = self.random_chunk()\n",
    "        return self.char_tensor(chunk)\n",
    "    \n",
    "    def get_next(self):\n",
    "        return self.__getitem__(-1)\n",
    "        \n",
    "\n",
    "    def char_tensor(self,string):\n",
    "        tensor = torch.Tensor(self.encoder.transform(list(string))).long()\n",
    "        return Variable(tensor)\n",
    "    \n",
    "    def random_chunk(self):\n",
    "        start_index = random.randint(0, self.__len__() - self.chunk_len)\n",
    "        end_index = start_index + self.chunk_len + 1\n",
    "        return self.text[start_index:end_index]\n"
   ]
  },
  {
   "cell_type": "code",
   "execution_count": 69,
   "metadata": {},
   "outputs": [
    {
     "data": {
      "text/plain": [
       "array(['р', 'у', 'л', 'е', 'н', 'т', 'н', 'о', 'с', 'т', 'и', ' ', '—',\n",
       "       ' ', 'б', 'е', 'л', 'к', 'о', 'в', ',', ' ', 'о', 'д', 'и', 'н',\n",
       "       ' ', 'и', 'з', ' ', 'к', 'о', 'т', 'о', 'р', 'ы', 'х', ' ', 'п',\n",
       "       'о', 'м', 'о', 'г', 'а', 'е', 'т', ' ', 'б', 'а', 'к', 'т', 'е',\n",
       "       'р', 'и', 'и', ' ', 'п', 'о', 'п', 'а', 'д', 'а', 'т', 'ь', ' ',\n",
       "       'в', ' ', 'к', 'л', 'е', 'т', 'к', 'и', ' ', 'х', 'о', 'з', 'я',\n",
       "       'й', 'с', 'к', 'о', 'г', 'о', ' ', 'о', 'р', 'г', 'а', 'н', 'и',\n",
       "       'з', 'м', 'а', ',', ' ', 'а', ' ', 'д', 'р', 'у'], dtype='<U1')"
      ]
     },
     "execution_count": 69,
     "metadata": {},
     "output_type": "execute_result"
    }
   ],
   "source": [
    "chunk_len = 100\n",
    "dataset = TextDataset(text, chunk_len)\n",
    "dataset.encoder.inverse_transform(dataset.get_next())"
   ]
  },
  {
   "cell_type": "code",
   "execution_count": 70,
   "metadata": {},
   "outputs": [],
   "source": [
    "class RNN(nn.Module):\n",
    "    def __init__(self, dict_size, embedding_dim, output_size, biggun=nn.RNN, n_layers=1):\n",
    "        super(RNN, self).__init__()\n",
    "        self.input_size = dict_size\n",
    "        self.embedding_dim = embedding_dim\n",
    "        self.output_size = output_size\n",
    "        self.n_layers = n_layers\n",
    "        \n",
    "        self.encoder = nn.Embedding(dict_size, embedding_dim)\n",
    "        self.gun = biggun(embedding_dim, embedding_dim, n_layers)\n",
    "        self.decoder = nn.Linear(embedding_dim, output_size)\n",
    "    \n",
    "    def forward(self, inp, hidden):\n",
    "        inp = self.encoder(inp.view(1, -1))\n",
    "        output, hidden = self.gun(inp.view(1, 1, -1), hidden)\n",
    "        output = self.decoder(output.view(1, -1))\n",
    "        return output, hidden\n",
    "\n",
    "    def init_hidden(self):\n",
    "        return Variable(torch.zeros(self.n_layers, 1, self.embedding_dim))"
   ]
  },
  {
   "cell_type": "code",
   "execution_count": 71,
   "metadata": {},
   "outputs": [],
   "source": [
    "def evaluate(model, prime_str='A', predict_len=100, temperature=0.8):\n",
    "    \"\"\"Function to generate text of specified length\"\"\"\n",
    "       \n",
    "    hidden = model.init_hidden()\n",
    "    prime_input = dataset.char_tensor(prime_str)\n",
    "    predicted = prime_str\n",
    "\n",
    "    # Use priming string to \"build up\" hidden state\n",
    "    for p in range(len(prime_str) - 1):\n",
    "        _, hidden = model(prime_input[p], hidden)\n",
    "    inp = prime_input[-1]\n",
    "    \n",
    "    for p in range(predict_len):\n",
    "        output, hidden = model(inp, hidden)\n",
    "        \n",
    "        # Sample from the network as a multinomial distribution\n",
    "        output_dist = output.data.view(-1).div(temperature).exp()\n",
    "        top_i = torch.multinomial(output_dist, 1)[0]\n",
    "        \n",
    "        predicted_char = dataset.encoder.inverse_transform(np.array(top_i).reshape(1))\n",
    "        predicted += predicted_char[0]\n",
    "        inp = dataset.char_tensor(predicted_char)\n",
    "\n",
    "    return predicted"
   ]
  },
  {
   "cell_type": "code",
   "execution_count": 72,
   "metadata": {},
   "outputs": [],
   "source": [
    "def time_since(since):\n",
    "    s = time.time() - since\n",
    "    m = math.floor(s / 60)\n",
    "    s -= m * 60\n",
    "    return '%dm %ds' % (m, s)"
   ]
  },
  {
   "cell_type": "code",
   "execution_count": 73,
   "metadata": {},
   "outputs": [],
   "source": [
    "def plot_loss(losses):\n",
    "    plt.title('Loss decreasing')\n",
    "    plt.plot(losses)\n",
    "    plt.show()"
   ]
  },
  {
   "cell_type": "code",
   "execution_count": 74,
   "metadata": {},
   "outputs": [],
   "source": [
    "def train(chunk):\n",
    "    \"\"\"Function to train model on given chunk and count loss\"\"\"\n",
    "    def random_training_set(chunk):\n",
    "        inp = chunk[:-1]\n",
    "        target = chunk[1:]\n",
    "        return inp, target\n",
    "    \n",
    "    inp, target = random_training_set(chunk)\n",
    "    hidden = model.init_hidden()\n",
    "    model.zero_grad()\n",
    "    loss = 0\n",
    "\n",
    "    for c in range(chunk_len):\n",
    "        output, hidden = model(inp[c], hidden)\n",
    "        #pdb.set_trace()\n",
    "        \n",
    "        loss += criterion(output, target[c].view(1))\n",
    "\n",
    "    loss.backward()\n",
    "    optimizer.step()\n",
    "    #pdb.set_trace()\n",
    "    return loss.data.item() / chunk_len"
   ]
  },
  {
   "cell_type": "markdown",
   "metadata": {},
   "source": [
    "## Обучение"
   ]
  },
  {
   "cell_type": "markdown",
   "metadata": {},
   "source": [
    "Попробуем сразу модель в GRU"
   ]
  },
  {
   "cell_type": "code",
   "execution_count": 76,
   "metadata": {},
   "outputs": [
    {
     "name": "stdout",
     "output_type": "stream",
     "text": [
      "[0m 0s (0 0%) 5.5577]\n",
      "Что же тут будетркйäıЧ̂GJю”@νΣ≈ü½ϵσU≥3ρЪkЯ n2уϵό️Iπдh​Б∝}g:µЛ*G:λ﻿y​»атτ>️éö,р:&́Ёt≤ἀсД;aCδεнI№DЁNВ𝛽ρn𝛽Pzl≈µт6½№–Хss \n",
      "\n",
      "[0m 37s (200 4%) 2.7385]\n",
      "Что же тут будет имо, ешити осавий нтовике асио тиме гожэ оя,т е и ести оесго козиласо сощбеки ила них раррорчогилро \n",
      "\n",
      "[1m 14s (400 8%) 3.1330]\n",
      "Что же тут будето п.гызпонабосаосваритесртути есмиртерали питеотазверочньтитаку с маткух сзаменитарносты  етини язос \n",
      "\n",
      "[1m 52s (600 12%) 2.6615]\n",
      "Что же тут будетвелдодам слыхмих ке улих пожиньчеритремичие норения родя кроченитьх ральзанекноролидих выниченики ны \n",
      "\n",
      "[2m 30s (800 16%) 2.6035]\n",
      "Что же тут будет подом дролестсочногуя бужили р котоли и ногесил изозмения, осоленуя  че содегсном ремелы орания исл \n",
      "\n",
      "[3m 10s (1000 20%) 2.4358]\n",
      "Что же тут будетриненной полнопенки о пронитик в е сошетсплюндет и полиботам стротый нейреторное нение ле датво плат \n",
      "\n",
      "[3m 51s (1200 24%) 2.1164]\n",
      "Что же тут будетнестраялОстание ан неддалом исодщем териала ичннемоностенной в прерводном пралистителом мода тыго на \n",
      "\n",
      "[4m 31s (1400 28%) 2.3979]\n",
      "Что же тут будетла выпирит. Предедальноглах поровония в жеркомица тезмаритетные прогода, прененый (днер касАлновяет  \n",
      "\n",
      "[5m 13s (1600 32%) 2.1895]\n",
      "Что же тут будется исолуют в запритикалаке продтом сярая, д. Пирпиверных Ерния 3 обывароятрро нелязововатетны свет п \n",
      "\n",
      "[5m 54s (1800 36%) 1.9407]\n",
      "Что же тут будет годовать прентидия укониного и в энерально ганелься потделиные вощен проозотно, полеми и руделние и \n",
      "\n",
      "[6m 33s (2000 40%) 2.1169]\n",
      "Что же тут будет 14 находитациествия также эзвазненной превевних подексяощяму. На сослач, которых создана в лета ног \n",
      "\n",
      "[7m 15s (2200 44%) 2.1081]\n",
      "Что же тут будетво, проворомамема в поверенных сопероссесиров разском обруженых друго в кактировнко ронжедных выреме \n",
      "\n",
      "[8m 1s (2400 48%) 2.0735]\n",
      "Что же тут будет при которые рабржяления кобым с пак для вычения частию и орна-мет доля.  Занять для ражском горможи \n",
      "\n",
      "[8m 42s (2600 52%) 2.5418]\n",
      "Что же тут будет уде содностью рассивемера Yивлами вызармась испоримы в и мантевовыменом на мощь тота с собеной повр \n",
      "\n",
      "[9m 22s (2800 56%) 2.0590]\n",
      "Что же тут будет на вного коленических и приситиния не теромивы и полет, и (и выделосту упродотгариких которые — вля \n",
      "\n",
      "[9m 59s (3000 60%) 2.5560]\n",
      "Что же тут будет прикальные провеции поления, зандание норансять в данет поведая гасть от и экс падня данения нашла  \n",
      "\n",
      "[10m 38s (3200 64%) 1.9727]\n",
      "Что же тут будетства газлачие образ возрассивертие продова. Лели рентверганий новопления запрозопавать в при обоо ка \n",
      "\n",
      "[11m 17s (3400 68%) 1.7639]\n",
      " с как кортизвенть привужеской ные подов выло в нахоклеток, састические полоках обнак\n",
      "\n",
      "[11m 56s (3600 72%) 1.9296]\n",
      "Что же тут будет слючать году колракже к лериели у фогукщие уна приделиния деле струколочине услем дроссиведе урахал \n",
      "\n",
      "[12m 39s (3800 76%) 1.9493]\n",
      "Что же тут будетством годя собные стрених месппынарицили, что отконов, еслоятерали на отные стекотокой для тысячы ме \n",
      "\n",
      "[13m 17s (4000 80%) 1.8567]\n",
      "Что же тут будет несты, отве Цепкистровно владиницы и статься уреовного тофочной рацения все светила ни более неру,  \n",
      "\n",
      "[13m 59s (4200 84%) 2.2901]\n",
      "Что же тут будет в 37, кручяя для колелавой инили в стременных нацей внория, ссоздать спадение — ние высок» и кормы, \n",
      "\n",
      "[14m 40s (4400 88%) 2.1903]\n",
      "Что же тут будето объук ранется в базфе (LDти создались каиили (долабов сиобностовануком изловраты кентергию одельно \n",
      "\n",
      "[15m 21s (4600 92%) 2.1830]\n",
      "Что же тут будется в фестения рассли редстал счиремо урода с видь в корьше 2019 проверять и гороврерных обрас в и ка \n",
      "\n",
      "[16m 1s (4800 96%) 2.1374]\n",
      "Что же тут будету горяз для которыю объенных ображает водосскования возрасной у следного личеный дрованный наоду Так \n",
      "\n"
     ]
    }
   ],
   "source": [
    "n_epochs = 5000\n",
    "print_every = 200\n",
    "plot_every = 10\n",
    "emb_size = 100\n",
    "n_layers = 3\n",
    "lr = 0.005\n",
    "dict_size = len(dataset.charset)\n",
    "\n",
    "model = RNN(dict_size, emb_size, dict_size, nn.GRU, n_layers)\n",
    "optimizer = torch.optim.Adam(model.parameters(), lr=lr)\n",
    "criterion = nn.CrossEntropyLoss()\n",
    "\n",
    "start = time.time()\n",
    "all_losses = []\n",
    "loss_avg = 0\n",
    "\n",
    "for epoch in range( n_epochs):\n",
    "    loss = train(dataset.get_next())     \n",
    "    \n",
    "    loss_avg += loss\n",
    "    if epoch % print_every == 0:\n",
    "        print('[%s (%d %d%%) %.4f]' % (time_since(start), epoch, epoch / n_epochs * 100, loss))\n",
    "        print(evaluate(model, 'Что же тут будет', 100), '\\n')\n",
    "\n",
    "    if epoch % plot_every == 0:\n",
    "        all_losses.append(loss_avg / plot_every)\n",
    "        loss_avg = 0"
   ]
  },
  {
   "cell_type": "code",
   "execution_count": 77,
   "metadata": {},
   "outputs": [
    {
     "data": {
      "image/png": "[encoded data removed]",
      "text/plain": [
       "<Figure size 432x288 with 1 Axes>"
      ]
     },
     "metadata": {
      "needs_background": "light"
     },
     "output_type": "display_data"
    }
   ],
   "source": [
    "plot_loss(all_losses)"
   ]
  },
  {
   "cell_type": "markdown",
   "metadata": {},
   "source": [
    "🤖"
   ]
  },
  {
   "cell_type": "code",
   "execution_count": 79,
   "metadata": {},
   "outputs": [
    {
     "data": {
      "text/plain": [
       "'Вчера вечеромеимые медст из V–3 галей пропивершию приведыв посели урульзованения в спасиа у неские реддика 2511 ганирую выпудают черной иседный сколу до также активной из получили плер-иделистивной полета в одлельими и и сравнинительной имериали 2019 годали челы вызвем челшестноми и зуклюдели будна водительным пластику собить в предствия в заклическогом (рушнительно в сели пла до это объодитные гиллучствуют преддентвует мажныва и ее коле на годы деритуры сра и поля в головелеский педы временте словали у пластической, веествек вс4 данные за пуршателееве передиместа устатические пределили и Кесил и и киспил дволаствая передил кульзения водить средил и выпдутическая предстали в ссемии и грудели междить глагомичевали преп и которого для выпады представлюдном спилоснироводели, срасияческой — чпредстронные полязовых объести, пределизучения правляет преднейсятноской примеренти, мевнити предеруктивной демы провить гларали и плостивны меспорный прозвы ферсаромерии мисчитерами вергии сайтей с видикались приа'"
      ]
     },
     "execution_count": 79,
     "metadata": {},
     "output_type": "execute_result"
    }
   ],
   "source": [
    "evaluate(model, prime_str='Вчера вечером',predict_len = 1000)"
   ]
  },
  {
   "cell_type": "markdown",
   "metadata": {},
   "source": [
    "<br>\n",
    "\n",
    "Может со стихами повезёт чуть больше:"
   ]
  },
  {
   "cell_type": "code",
   "execution_count": 108,
   "metadata": {},
   "outputs": [],
   "source": [
    "with open(\"../data/lyrics.txt\", \"rb\") as f:\n",
    "    text = f.read().decode('Windows-1251')"
   ]
  },
  {
   "cell_type": "code",
   "execution_count": 110,
   "metadata": {},
   "outputs": [
    {
     "data": {
      "text/plain": [
       "array([' ', 'ж', 'и', 'з', 'н', 'и', '!', ' ', 'В', ' ', 'к', 'а', 'ж',\n",
       "       'д', 'о', 'е', ' ', 'у', 'х', 'о', ' ', 'в', 'в', 'о', 'й', ':',\n",
       "       ' ', 'в', 'с', 'я', ' ', 'з', 'е', 'м', 'л', 'я', ' ', 'к', 'а',\n",
       "       'т', 'о', 'р', 'ж', 'н', 'и', 'к', ' ', 'с', ' ', 'н', 'а', 'п',\n",
       "       'о', 'л', 'о', 'в', 'и', 'н', 'у', ' ', 'в', 'ы', 'б', 'р', 'и',\n",
       "       'т', 'о', 'й', ' ', 'с', 'о', 'л', 'н', 'ц', 'е', 'м', ' ', 'г',\n",
       "       'о', 'л', 'о', 'в', 'о', 'й', '!', ' ', '\\r', '\\n', '\\r', '\\n',\n",
       "       'О', 'к', 'о', ' ', 'з', 'а', ' ', 'о', 'к', 'о', '!'], dtype='<U1')"
      ]
     },
     "execution_count": 110,
     "metadata": {},
     "output_type": "execute_result"
    }
   ],
   "source": [
    "chunk_len = 100\n",
    "dataset = TextDataset(text, chunk_len)\n",
    "dataset.encoder.inverse_transform(dataset.get_next())"
   ]
  },
  {
   "cell_type": "code",
   "execution_count": 111,
   "metadata": {},
   "outputs": [
    {
     "name": "stdout",
     "output_type": "stream",
     "text": [
      "[0m 0s (0 0%) 4.9086]\n",
      "Вы любите розыЛ5нуmuZ?dОБNШcDоВЧ.уCNоЙ4шощi4У(РHвЬ РzФEьXч1NhN\"зЧп\"-нc:'NybгHлхгвЙЪ1еd6Sga]аэГЬPCSЦp8ТJsр7п)EMОГШH \n",
      "\n",
      "[0m 37s (200 4%) 2.4234]\n",
      "Вы любите розы огою уно! \n",
      "\n",
      "\n",
      "Око лом ситтолна дитсол у, вурапоквий да ра рюродогое качеди., воле, скитсну учатра \n",
      "\n",
      "[1m 13s (400 8%) 1.7412]\n",
      "Вы любите розый окить полуний с екон шечем цеки крав крав уго, уболовьша телит в заккий вала тый в крям не человой \n",
      "\n",
      "[1m 50s (600 12%) 0.3812]\n",
      "Вы любите розыся намо члоловекимая стожо не рожоко. \n",
      "\n",
      "урмы на ладони! \n",
      "\n",
      "Лого. Нощ на тел! я зарил члоты. Влади \n",
      "\n",
      "[2m 26s (800 16%) 0.5154]\n",
      "Вы любите розый во возрось моем оберду, вшя жесть вылью в моей язся жем дюбь моей ящ. Только авторала, отой ты ям  \n",
      "\n",
      "[3m 3s (1000 20%) 0.4033]\n",
      "Вы любите розыйся напаленног на шакой глохотко же?! Хороните ратся за ты, вино на ладони ночного стольцам от челов \n",
      "\n",
      "[3m 40s (1200 24%) 0.3361]\n",
      "Вы любите розый не казарм! Буду, бешеный, величайший Дон-Кихотроб обтиры Ригной силоююдийе Royallib.ru/book/kiviiv \n",
      "\n",
      "[4m 17s (1400 28%) 0.3383]\n",
      "Вы любите розый с пять моег. Вот - я, весь боль и уйтой солнцем - каклиникой дуристом одре сердце дни кончило. \n",
      " \n",
      "\n",
      "[4m 53s (1600 32%) 0.3853]\n",
      "Вы любите розым строк ввой: вся замучена шакой души. \n",
      "\n",
      "Теперибе! \n",
      "\n",
      "Ве убийхтой смертний \n",
      "\n",
      "Стрии стихотворени \n",
      "\n",
      "[5m 30s (1800 36%) 0.9271]\n",
      "Вы любите розыбол! \n",
      "\n",
      "Севне увиди! До края полное сердце вылью в исповеди! \n",
      "\n",
      "Грядущии остановите ход! Смотрите  \n",
      "\n",
      "[6m 6s (2000 40%) 0.4717]\n",
      "Вы любите розым наром одре сердце дны! Амерчих \n",
      "\n",
      "В гругох. \n",
      "\n",
      "ОТОВОР \n",
      "\n",
      "Совну! Америмик т человеку! Молитва у  \n",
      "\n",
      "[6m 43s (2200 44%) 0.6246]\n",
      "Вы любите розырний \"Париж круго весенния 1927да\" 1929-19395 годов  Стихотворения 1927 года  Стихотворения 1927 год \n",
      "\n",
      "[7m 20s (2400 48%) 0.2454]\n",
      "Вы любите розы нами, забиба урось, и даристов итриск обрыв будьте добры, и наспуримите, нас, Я зав лемя над с цей  \n",
      "\n",
      "[7m 56s (2600 52%) 0.1567]\n",
      "Вы любите розы глотком изнасинила только: \"Страво. \n",
      "\n",
      "1925 год)  Циклити крыв дубихот на выйти ль нам?темно, никт \n",
      "\n",
      "[8m 33s (2800 56%) 0.2725]\n",
      "Вы любите розым омебряном \n",
      "\n",
      "Солнце! Лучей кнад язвой сказал ему, никто не увидит нас,, Я наклонь я спаладунилей  \n",
      "\n",
      "[9m 10s (3000 60%) 0.2848]\n",
      "Вы любите розыс сердце насеский ступенями строк взлазил высь зувес никто непруны кникустов слый книктой солнце на  \n",
      "\n",
      "[9m 47s (3200 64%) 0.1666]\n",
      "Вы любите розыром. \n",
      "\n",
      "Ночь кезвесть мол! Ты уронила только: \"В мягкой постели он, фрукты, я кодидии он жархо и рх \n",
      "\n",
      "[10m 24s (3400 68%) 0.3526]\n",
      "Вы любите розый библ красти вечаликой сторий \"Париж подьба крубить ступеченикою в краста секрейтел об отрровый мре \n",
      "\n",
      "[11m 0s (3600 72%) 0.4455]\n",
      "Вы любите розыйсчел новью на рослей, юнила тольков  потой под на похороните срываю игрушки-ль! Ока меземм! Белым б \n",
      "\n",
      "[11m 38s (3800 76%) 1.1610]\n",
      "Вы любите розыбийц и анараверхи аталистал с ухиления обрения одал и кравийцвища: http://royallib.ru\n",
      "\n",
      "Все книги а \n",
      "\n",
      "[12m 14s (4000 80%) 0.6955]\n",
      "Вы любите розыго! Ошот я, ком вечер тысмуте тысяченния стил око! \n",
      "\n",
      "ОТОШИЕНЕ \n",
      "\n",
      "ОЭтот в испопвеченита, юни! \n",
      "\n",
      " \n",
      "\n",
      "[12m 51s (4200 84%) 0.4479]\n",
      "Вы любите розыми. Доржни я возьстув головину выброгойт. Вет - я, каколитений ожа окон нары рукта, надите над алит  \n",
      "\n",
      "[13m 28s (4400 88%) 0.3614]\n",
      "Вы любите розым и гачемлым мысь подвижня не пастался с путвой этожеке салраспнала рукте, комеда Христос секунду ус \n",
      "\n",
      "[14m 5s (4600 92%) 0.2566]\n",
      "Вы любите розым бурние ступенями стирых 1925 год)  Стихотворения 1917-1919 годов  \"Окна сатиры Роста\" 1919-1919-19 \n",
      "\n",
      "[14m 42s (4800 96%) 0.3730]\n",
      "Вы любите розыбарения 1926 года  Стихотворения 1929-1930 годов \n",
      "\n",
      " КО ВСЕМУ \n",
      "\n",
      "Нет - Эта не великочикоб тысячавд \n",
      "\n"
     ]
    }
   ],
   "source": [
    "n_epochs = 5000\n",
    "print_every = 200\n",
    "plot_every = 10\n",
    "emb_size = 100\n",
    "n_layers = 3\n",
    "lr = 0.005\n",
    "dict_size = len(dataset.charset)\n",
    "\n",
    "model = RNN(dict_size, emb_size, dict_size, nn.GRU, n_layers)\n",
    "optimizer = torch.optim.Adam(model.parameters(), lr=lr)\n",
    "criterion = nn.CrossEntropyLoss()\n",
    "\n",
    "start = time.time()\n",
    "all_losses = []\n",
    "loss_avg = 0\n",
    "\n",
    "for epoch in range( n_epochs):\n",
    "    loss = train(dataset.get_next())     \n",
    "    \n",
    "    loss_avg += loss\n",
    "    if epoch % print_every == 0:\n",
    "        print('[%s (%d %d%%) %.4f]' % (time_since(start), epoch, epoch / n_epochs * 100, loss))\n",
    "        print(evaluate(model, 'Вы любите розы', 100), '\\n')\n",
    "\n",
    "    if epoch % plot_every == 0:\n",
    "        all_losses.append(loss_avg / plot_every)\n",
    "        loss_avg = 0"
   ]
  },
  {
   "cell_type": "code",
   "execution_count": 112,
   "metadata": {},
   "outputs": [
    {
     "data": {
      "image/png": "[encoded data removed]",
      "text/plain": [
       "<Figure size 432x288 with 1 Axes>"
      ]
     },
     "metadata": {
      "needs_background": "light"
     },
     "output_type": "display_data"
    }
   ],
   "source": [
    "plot_loss(all_losses)"
   ]
  },
  {
   "cell_type": "markdown",
   "metadata": {},
   "source": [
    "Лучшие результаты! 🥳"
   ]
  },
  {
   "cell_type": "code",
   "execution_count": 122,
   "metadata": {},
   "outputs": [
    {
     "name": "stdout",
     "output_type": "stream",
     "text": [
      "Вы любите розы нась поведи! До края полное сердце вылью в исповеди! \n",
      "\n",
      "Грядущие люди! Кто вы? Вот - я, весь боль и ушиб. Вам завещаю я сад фруктовый моей великой души. \n",
      "\n",
      "1916 \n",
      "\n",
      "ОТНОШЕНИЕ  К БАРЫШНЕ \n",
      "\n",
      "Этот вечер реки, жажду утолить не вылью в исповед! \n",
      "\n",
      "Сборники стихотворений\n",
      "\n",
      "\n",
      "Владимиры неба! Маякой комеди! \n",
      "\n",
      "гуро, я действое деся бровь! \n",
      "\n",
      "Сборники стихотворений\n",
      "\n",
      "\n",
      "Владимиры Глабоко не пачелное кой реко, добрей оревна, подов вещаю я даралади ей, как добрый родитель: \"Страсти крут обрыв будьте добры, отойдий остоем ворений \n",
      "\n",
      " Избранные стихотворения 1893-1930 годов  Стихотворения 1912-1919 годов  Стихотворения 1926 года  Стихотворения 1912-1919 годов  Стихотворения 1912-1919 годов  Стихотвовит в я 1919-1930 годов  Стихотворения 1912-1919 годов  Стихотворения 1912-1919 годов  Стихотворения 1912-1916 годов  Стихотворения 1912-1919 годов  Стихотворения 1917-1919 годов  Стихотворения 1917-1919 годов  Стихотворения 1917-1919 годов  Стихотворения 1912-1919 годов  Стихотворения 1912-1919  \n",
      "\n"
     ]
    }
   ],
   "source": [
    "print(evaluate(model, 'Вы любите розы ', 1000, 0.5), '\\n')"
   ]
  },
  {
   "cell_type": "markdown",
   "metadata": {},
   "source": [
    "Скатывается в оглавление ..."
   ]
  },
  {
   "cell_type": "code",
   "execution_count": 134,
   "metadata": {},
   "outputs": [
    {
     "name": "stdout",
     "output_type": "stream",
     "text": [
      "Это неправда. Нет! И ты? Любимая, за что, за что же?! Хорошо я ходил, я дарил цветы, я ж из ящика не выкрал серебряных \n",
      "\n",
      "ложек! Белый, сшатался с пятого этажа. Ветер щеки ожег. Улица клубилась, визжа и ржа. Похоль цег действительно я, величайший Дон-Кихот! \n",
      "\n",
      "Помрочи трубить с площадей учену шенузрас над муспГряных \n",
      "\n",
      "ложой плиты просящ плону, будрадей он, усты я, не книтлите веленийе вылью в исповеди! \n",
      "\n",
      "Грядущие люди! Кто вы? Вот - я, весь боль и ушиб. Ва твоем - моей языческой сдовилую вю в ему рта,ди пью жезубит нас, Я кралаилиств веленый стриль и учет не увидит нас, Я наклонился действительно я, наклонясь,лной пмотел не казалниетрна. \n",
      "\n",
      "Ночью вскочите! прут жаряди! \n",
      "\n",
      "Грядущие люди! Кто вы? Вот - я, весь _ом сдрей взлазални! Кто ы я,зочей куста. Ной под на родих и родитель: \"Страсти крут обрыв будьте добрый рым.т блаторень! До ртал. язый я ходов будьте десталещие потрникод зерекя! \n",
      "\n",
      "\n",
      "\n",
      "\n",
      "\n",
      "\n",
      "\n",
      "\n",
      "\n",
      "\n",
      "\n",
      "Любовь! Только в моем воспаленном мозгуди! До кровью глазами. Да! Будун окон жар щеки над уста\" Беловлейм векой скила решалый в ещните вплая сердце над линощ \n",
      "ер.ники наполов лажду. Ночь пьет за глотком глоток он. От окон жар твоей, утов зарч \n",
      "\n"
     ]
    }
   ],
   "source": [
    "print(evaluate(model, 'Это неправда. Нет! И ты? Любимая, за что, за что же?! Хорошо я ходил, я дарил цветы, я ж из ящика не выкрал серебряных \\r\\n\\r\\nложек! Белый, сшатался с пятого этажа. Ветер щеки ', 1000, 0.9), '\\n')"
   ]
  },
  {
   "cell_type": "markdown",
   "metadata": {},
   "source": [
    "Даже немного поэтично 🖋"
   ]
  }
 ],
 "metadata": {
  "kernelspec": {
   "display_name": "Python 3",
   "language": "python",
   "name": "python3"
  },
  "language_info": {
   "codemirror_mode": {
    "name": "ipython",
    "version": 3
   },
   "file_extension": ".py",
   "mimetype": "text/x-python",
   "name": "python",
   "nbconvert_exporter": "python",
   "pygments_lexer": "ipython3",
   "version": "3.6.10"
  }
 },
 "nbformat": 4,
 "nbformat_minor": 4
}
